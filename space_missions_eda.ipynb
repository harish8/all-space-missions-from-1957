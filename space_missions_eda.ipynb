{
 "cells": [
  {
   "cell_type": "code",
   "execution_count": 1,
   "metadata": {},
   "outputs": [],
   "source": [
    "from nbdev.export import nb_export\n",
    "nb_export('space_missions_eda.ipynb', lib_path='.', name='space_missions')"
   ]
  },
  {
   "cell_type": "code",
   "execution_count": 2,
   "metadata": {},
   "outputs": [],
   "source": [
    "# |exporti\n",
    "\n",
    "import streamlit as st\n",
    "\n",
    "from streamlit_jupyter import StreamlitPatcher, tqdm\n",
    "StreamlitPatcher().jupyter() # register streamlit with jupyter-compatible wrappers\n",
    "\n",
    "from streamlit_folium import st_folium"
   ]
  },
  {
   "cell_type": "code",
   "execution_count": 3,
   "metadata": {},
   "outputs": [],
   "source": [
    "sp = StreamlitPatcher()\n",
    "sp.jupyter()  # register patcher with streamlit"
   ]
  },
  {
   "cell_type": "code",
   "execution_count": 4,
   "metadata": {},
   "outputs": [
    {
     "data": {
      "text/markdown": [
       "# All space missions from 1957"
      ],
      "text/plain": [
       "<IPython.core.display.Markdown object>"
      ]
     },
     "metadata": {},
     "output_type": "display_data"
    }
   ],
   "source": [
    "# |exporti\n",
    "\n",
    "st.title(\"All space missions from 1957\")"
   ]
  },
  {
   "cell_type": "code",
   "execution_count": 5,
   "metadata": {},
   "outputs": [],
   "source": [
    "# |exporti\n",
    "\n",
    "# import necessary packages. \n",
    "import pandas as pd\n",
    "import seaborn as sns\n",
    "import matplotlib.pyplot as plt\n",
    "import folium\n",
    "from geopy.geocoders import Nominatim\n",
    "import geocoder"
   ]
  },
  {
   "cell_type": "code",
   "execution_count": 6,
   "metadata": {},
   "outputs": [],
   "source": [
    "# |exporti\n",
    "\n",
    "# fetch the data from csv file and store it in a variable. \n",
    "space_missions_df = pd.read_csv('./Space_Corrected.csv', index_col=0)"
   ]
  },
  {
   "cell_type": "code",
   "execution_count": 7,
   "metadata": {},
   "outputs": [],
   "source": [
    "# |exporti\n",
    "\n",
    "# Rename the columns named `Unnamed: 0` to `index` \n",
    "space_missions_df = space_missions_df.rename(columns={\"Unnamed: 0\" : \"index\", \"Company Name\": \"company_name\", \"Status Rocket\":\"status_rocket\",\" Rocket\": \"Rocket\", \"Status Mission\": \"status_mission\"})"
   ]
  },
  {
   "cell_type": "code",
   "execution_count": 8,
   "metadata": {},
   "outputs": [
    {
     "name": "stdout",
     "output_type": "stream",
     "text": [
      "<class 'pandas.core.frame.DataFrame'>\n",
      "Index: 4324 entries, 0 to 4323\n",
      "Data columns (total 8 columns):\n",
      " #   Column          Non-Null Count  Dtype \n",
      "---  ------          --------------  ----- \n",
      " 0   index           4324 non-null   int64 \n",
      " 1   company_name    4324 non-null   object\n",
      " 2   Location        4324 non-null   object\n",
      " 3   Datum           4324 non-null   object\n",
      " 4   Detail          4324 non-null   object\n",
      " 5   status_rocket   4324 non-null   object\n",
      " 6   Rocket          964 non-null    object\n",
      " 7   status_mission  4324 non-null   object\n",
      "dtypes: int64(1), object(7)\n",
      "memory usage: 304.0+ KB\n"
     ]
    }
   ],
   "source": [
    "space_missions_df.info()"
   ]
  },
  {
   "cell_type": "code",
   "execution_count": 9,
   "metadata": {},
   "outputs": [
    {
     "data": {
      "text/html": [
       "<div>\n",
       "<style scoped>\n",
       "    .dataframe tbody tr th:only-of-type {\n",
       "        vertical-align: middle;\n",
       "    }\n",
       "\n",
       "    .dataframe tbody tr th {\n",
       "        vertical-align: top;\n",
       "    }\n",
       "\n",
       "    .dataframe thead th {\n",
       "        text-align: right;\n",
       "    }\n",
       "</style>\n",
       "<table border=\"1\" class=\"dataframe\">\n",
       "  <thead>\n",
       "    <tr style=\"text-align: right;\">\n",
       "      <th></th>\n",
       "      <th>index</th>\n",
       "    </tr>\n",
       "  </thead>\n",
       "  <tbody>\n",
       "    <tr>\n",
       "      <th>count</th>\n",
       "      <td>4324.000000</td>\n",
       "    </tr>\n",
       "    <tr>\n",
       "      <th>mean</th>\n",
       "      <td>2161.500000</td>\n",
       "    </tr>\n",
       "    <tr>\n",
       "      <th>std</th>\n",
       "      <td>1248.375611</td>\n",
       "    </tr>\n",
       "    <tr>\n",
       "      <th>min</th>\n",
       "      <td>0.000000</td>\n",
       "    </tr>\n",
       "    <tr>\n",
       "      <th>25%</th>\n",
       "      <td>1080.750000</td>\n",
       "    </tr>\n",
       "    <tr>\n",
       "      <th>50%</th>\n",
       "      <td>2161.500000</td>\n",
       "    </tr>\n",
       "    <tr>\n",
       "      <th>75%</th>\n",
       "      <td>3242.250000</td>\n",
       "    </tr>\n",
       "    <tr>\n",
       "      <th>max</th>\n",
       "      <td>4323.000000</td>\n",
       "    </tr>\n",
       "  </tbody>\n",
       "</table>\n",
       "</div>"
      ],
      "text/plain": [
       "             index\n",
       "count  4324.000000\n",
       "mean   2161.500000\n",
       "std    1248.375611\n",
       "min       0.000000\n",
       "25%    1080.750000\n",
       "50%    2161.500000\n",
       "75%    3242.250000\n",
       "max    4323.000000"
      ]
     },
     "execution_count": 9,
     "metadata": {},
     "output_type": "execute_result"
    }
   ],
   "source": [
    "space_missions_df.describe()"
   ]
  },
  {
   "cell_type": "code",
   "execution_count": 10,
   "metadata": {},
   "outputs": [
    {
     "data": {
      "text/html": [
       "<div>\n",
       "<style scoped>\n",
       "    .dataframe tbody tr th:only-of-type {\n",
       "        vertical-align: middle;\n",
       "    }\n",
       "\n",
       "    .dataframe tbody tr th {\n",
       "        vertical-align: top;\n",
       "    }\n",
       "\n",
       "    .dataframe thead th {\n",
       "        text-align: right;\n",
       "    }\n",
       "</style>\n",
       "<table border=\"1\" class=\"dataframe\">\n",
       "  <thead>\n",
       "    <tr style=\"text-align: right;\">\n",
       "      <th></th>\n",
       "      <th>index</th>\n",
       "      <th>company_name</th>\n",
       "      <th>Location</th>\n",
       "      <th>Datum</th>\n",
       "      <th>Detail</th>\n",
       "      <th>status_rocket</th>\n",
       "      <th>Rocket</th>\n",
       "      <th>status_mission</th>\n",
       "    </tr>\n",
       "  </thead>\n",
       "  <tbody>\n",
       "    <tr>\n",
       "      <th>2</th>\n",
       "      <td>2</td>\n",
       "      <td>SpaceX</td>\n",
       "      <td>Pad A, Boca Chica, Texas, USA</td>\n",
       "      <td>Tue Aug 04, 2020 23:57 UTC</td>\n",
       "      <td>Starship Prototype | 150 Meter Hop</td>\n",
       "      <td>StatusActive</td>\n",
       "      <td>NaN</td>\n",
       "      <td>Success</td>\n",
       "    </tr>\n",
       "    <tr>\n",
       "      <th>7</th>\n",
       "      <td>7</td>\n",
       "      <td>CASC</td>\n",
       "      <td>LC-101, Wenchang Satellite Launch Center, China</td>\n",
       "      <td>Thu Jul 23, 2020 04:41 UTC</td>\n",
       "      <td>Long March 5 | Tianwen-1</td>\n",
       "      <td>StatusActive</td>\n",
       "      <td>NaN</td>\n",
       "      <td>Success</td>\n",
       "    </tr>\n",
       "    <tr>\n",
       "      <th>13</th>\n",
       "      <td>13</td>\n",
       "      <td>IAI</td>\n",
       "      <td>Pad 1, Palmachim Airbase, Israel</td>\n",
       "      <td>Mon Jul 06, 2020 01:00 UTC</td>\n",
       "      <td>Shavit-2 | Ofek-16</td>\n",
       "      <td>StatusActive</td>\n",
       "      <td>NaN</td>\n",
       "      <td>Success</td>\n",
       "    </tr>\n",
       "    <tr>\n",
       "      <th>28</th>\n",
       "      <td>28</td>\n",
       "      <td>VKS RF</td>\n",
       "      <td>Site 43/4, Plesetsk Cosmodrome, Russia</td>\n",
       "      <td>Fri May 22, 2020 07:31 UTC</td>\n",
       "      <td>Soyuz 2.1b/Fregat-M | Cosmos 2546</td>\n",
       "      <td>StatusActive</td>\n",
       "      <td>NaN</td>\n",
       "      <td>Success</td>\n",
       "    </tr>\n",
       "    <tr>\n",
       "      <th>31</th>\n",
       "      <td>31</td>\n",
       "      <td>ExPace</td>\n",
       "      <td>Site 95, Jiuquan Satellite Launch Center, China</td>\n",
       "      <td>Tue May 12, 2020 01:16 UTC</td>\n",
       "      <td>Kuaizhou 1A | Xingyun-2 01 (Wuhan) &amp; 02</td>\n",
       "      <td>StatusActive</td>\n",
       "      <td>NaN</td>\n",
       "      <td>Success</td>\n",
       "    </tr>\n",
       "    <tr>\n",
       "      <th>...</th>\n",
       "      <td>...</td>\n",
       "      <td>...</td>\n",
       "      <td>...</td>\n",
       "      <td>...</td>\n",
       "      <td>...</td>\n",
       "      <td>...</td>\n",
       "      <td>...</td>\n",
       "      <td>...</td>\n",
       "    </tr>\n",
       "    <tr>\n",
       "      <th>4319</th>\n",
       "      <td>4319</td>\n",
       "      <td>US Navy</td>\n",
       "      <td>LC-18A, Cape Canaveral AFS, Florida, USA</td>\n",
       "      <td>Wed Feb 05, 1958 07:33 UTC</td>\n",
       "      <td>Vanguard | Vanguard TV3BU</td>\n",
       "      <td>StatusRetired</td>\n",
       "      <td>NaN</td>\n",
       "      <td>Failure</td>\n",
       "    </tr>\n",
       "    <tr>\n",
       "      <th>4320</th>\n",
       "      <td>4320</td>\n",
       "      <td>AMBA</td>\n",
       "      <td>LC-26A, Cape Canaveral AFS, Florida, USA</td>\n",
       "      <td>Sat Feb 01, 1958 03:48 UTC</td>\n",
       "      <td>Juno I | Explorer 1</td>\n",
       "      <td>StatusRetired</td>\n",
       "      <td>NaN</td>\n",
       "      <td>Success</td>\n",
       "    </tr>\n",
       "    <tr>\n",
       "      <th>4321</th>\n",
       "      <td>4321</td>\n",
       "      <td>US Navy</td>\n",
       "      <td>LC-18A, Cape Canaveral AFS, Florida, USA</td>\n",
       "      <td>Fri Dec 06, 1957 16:44 UTC</td>\n",
       "      <td>Vanguard | Vanguard TV3</td>\n",
       "      <td>StatusRetired</td>\n",
       "      <td>NaN</td>\n",
       "      <td>Failure</td>\n",
       "    </tr>\n",
       "    <tr>\n",
       "      <th>4322</th>\n",
       "      <td>4322</td>\n",
       "      <td>RVSN USSR</td>\n",
       "      <td>Site 1/5, Baikonur Cosmodrome, Kazakhstan</td>\n",
       "      <td>Sun Nov 03, 1957 02:30 UTC</td>\n",
       "      <td>Sputnik 8K71PS | Sputnik-2</td>\n",
       "      <td>StatusRetired</td>\n",
       "      <td>NaN</td>\n",
       "      <td>Success</td>\n",
       "    </tr>\n",
       "    <tr>\n",
       "      <th>4323</th>\n",
       "      <td>4323</td>\n",
       "      <td>RVSN USSR</td>\n",
       "      <td>Site 1/5, Baikonur Cosmodrome, Kazakhstan</td>\n",
       "      <td>Fri Oct 04, 1957 19:28 UTC</td>\n",
       "      <td>Sputnik 8K71PS | Sputnik-1</td>\n",
       "      <td>StatusRetired</td>\n",
       "      <td>NaN</td>\n",
       "      <td>Success</td>\n",
       "    </tr>\n",
       "  </tbody>\n",
       "</table>\n",
       "<p>3360 rows × 8 columns</p>\n",
       "</div>"
      ],
      "text/plain": [
       "      index company_name                                         Location  \\\n",
       "2         2       SpaceX                    Pad A, Boca Chica, Texas, USA   \n",
       "7         7         CASC  LC-101, Wenchang Satellite Launch Center, China   \n",
       "13       13          IAI                 Pad 1, Palmachim Airbase, Israel   \n",
       "28       28       VKS RF           Site 43/4, Plesetsk Cosmodrome, Russia   \n",
       "31       31       ExPace  Site 95, Jiuquan Satellite Launch Center, China   \n",
       "...     ...          ...                                              ...   \n",
       "4319   4319      US Navy         LC-18A, Cape Canaveral AFS, Florida, USA   \n",
       "4320   4320         AMBA         LC-26A, Cape Canaveral AFS, Florida, USA   \n",
       "4321   4321      US Navy         LC-18A, Cape Canaveral AFS, Florida, USA   \n",
       "4322   4322    RVSN USSR        Site 1/5, Baikonur Cosmodrome, Kazakhstan   \n",
       "4323   4323    RVSN USSR        Site 1/5, Baikonur Cosmodrome, Kazakhstan   \n",
       "\n",
       "                           Datum                                   Detail  \\\n",
       "2     Tue Aug 04, 2020 23:57 UTC       Starship Prototype | 150 Meter Hop   \n",
       "7     Thu Jul 23, 2020 04:41 UTC                 Long March 5 | Tianwen-1   \n",
       "13    Mon Jul 06, 2020 01:00 UTC                       Shavit-2 | Ofek-16   \n",
       "28    Fri May 22, 2020 07:31 UTC        Soyuz 2.1b/Fregat-M | Cosmos 2546   \n",
       "31    Tue May 12, 2020 01:16 UTC  Kuaizhou 1A | Xingyun-2 01 (Wuhan) & 02   \n",
       "...                          ...                                      ...   \n",
       "4319  Wed Feb 05, 1958 07:33 UTC                Vanguard | Vanguard TV3BU   \n",
       "4320  Sat Feb 01, 1958 03:48 UTC                      Juno I | Explorer 1   \n",
       "4321  Fri Dec 06, 1957 16:44 UTC                  Vanguard | Vanguard TV3   \n",
       "4322  Sun Nov 03, 1957 02:30 UTC               Sputnik 8K71PS | Sputnik-2   \n",
       "4323  Fri Oct 04, 1957 19:28 UTC               Sputnik 8K71PS | Sputnik-1   \n",
       "\n",
       "      status_rocket Rocket status_mission  \n",
       "2      StatusActive    NaN        Success  \n",
       "7      StatusActive    NaN        Success  \n",
       "13     StatusActive    NaN        Success  \n",
       "28     StatusActive    NaN        Success  \n",
       "31     StatusActive    NaN        Success  \n",
       "...             ...    ...            ...  \n",
       "4319  StatusRetired    NaN        Failure  \n",
       "4320  StatusRetired    NaN        Success  \n",
       "4321  StatusRetired    NaN        Failure  \n",
       "4322  StatusRetired    NaN        Success  \n",
       "4323  StatusRetired    NaN        Success  \n",
       "\n",
       "[3360 rows x 8 columns]"
      ]
     },
     "execution_count": 10,
     "metadata": {},
     "output_type": "execute_result"
    }
   ],
   "source": [
    "# |exporti\n",
    "\n",
    "# find if there's missing values. \n",
    "space_missions_df[space_missions_df.isna().any(axis=1)]"
   ]
  },
  {
   "cell_type": "code",
   "execution_count": 11,
   "metadata": {},
   "outputs": [
    {
     "data": {
      "text/html": [
       "<div>\n",
       "<style scoped>\n",
       "    .dataframe tbody tr th:only-of-type {\n",
       "        vertical-align: middle;\n",
       "    }\n",
       "\n",
       "    .dataframe tbody tr th {\n",
       "        vertical-align: top;\n",
       "    }\n",
       "\n",
       "    .dataframe thead th {\n",
       "        text-align: right;\n",
       "    }\n",
       "</style>\n",
       "<table border=\"1\" class=\"dataframe\">\n",
       "  <thead>\n",
       "    <tr style=\"text-align: right;\">\n",
       "      <th></th>\n",
       "      <th>index</th>\n",
       "      <th>company_name</th>\n",
       "      <th>Location</th>\n",
       "      <th>Datum</th>\n",
       "      <th>Detail</th>\n",
       "      <th>status_rocket</th>\n",
       "      <th>Rocket</th>\n",
       "      <th>status_mission</th>\n",
       "    </tr>\n",
       "  </thead>\n",
       "  <tbody>\n",
       "    <tr>\n",
       "      <th>0</th>\n",
       "      <td>0</td>\n",
       "      <td>SpaceX</td>\n",
       "      <td>LC-39A, Kennedy Space Center, Florida, USA</td>\n",
       "      <td>Fri Aug 07, 2020 05:12 UTC</td>\n",
       "      <td>Falcon 9 Block 5 | Starlink V1 L9 &amp; BlackSky</td>\n",
       "      <td>StatusActive</td>\n",
       "      <td>50.0</td>\n",
       "      <td>Success</td>\n",
       "    </tr>\n",
       "    <tr>\n",
       "      <th>1</th>\n",
       "      <td>1</td>\n",
       "      <td>CASC</td>\n",
       "      <td>Site 9401 (SLS-2), Jiuquan Satellite Launch Ce...</td>\n",
       "      <td>Thu Aug 06, 2020 04:01 UTC</td>\n",
       "      <td>Long March 2D | Gaofen-9 04 &amp; Q-SAT</td>\n",
       "      <td>StatusActive</td>\n",
       "      <td>29.75</td>\n",
       "      <td>Success</td>\n",
       "    </tr>\n",
       "    <tr>\n",
       "      <th>2</th>\n",
       "      <td>2</td>\n",
       "      <td>SpaceX</td>\n",
       "      <td>Pad A, Boca Chica, Texas, USA</td>\n",
       "      <td>Tue Aug 04, 2020 23:57 UTC</td>\n",
       "      <td>Starship Prototype | 150 Meter Hop</td>\n",
       "      <td>StatusActive</td>\n",
       "      <td>NaN</td>\n",
       "      <td>Success</td>\n",
       "    </tr>\n",
       "    <tr>\n",
       "      <th>3</th>\n",
       "      <td>3</td>\n",
       "      <td>Roscosmos</td>\n",
       "      <td>Site 200/39, Baikonur Cosmodrome, Kazakhstan</td>\n",
       "      <td>Thu Jul 30, 2020 21:25 UTC</td>\n",
       "      <td>Proton-M/Briz-M | Ekspress-80 &amp; Ekspress-103</td>\n",
       "      <td>StatusActive</td>\n",
       "      <td>65.0</td>\n",
       "      <td>Success</td>\n",
       "    </tr>\n",
       "    <tr>\n",
       "      <th>4</th>\n",
       "      <td>4</td>\n",
       "      <td>ULA</td>\n",
       "      <td>SLC-41, Cape Canaveral AFS, Florida, USA</td>\n",
       "      <td>Thu Jul 30, 2020 11:50 UTC</td>\n",
       "      <td>Atlas V 541 | Perseverance</td>\n",
       "      <td>StatusActive</td>\n",
       "      <td>145.0</td>\n",
       "      <td>Success</td>\n",
       "    </tr>\n",
       "  </tbody>\n",
       "</table>\n",
       "</div>"
      ],
      "text/plain": [
       "   index company_name                                           Location  \\\n",
       "0      0       SpaceX         LC-39A, Kennedy Space Center, Florida, USA   \n",
       "1      1         CASC  Site 9401 (SLS-2), Jiuquan Satellite Launch Ce...   \n",
       "2      2       SpaceX                      Pad A, Boca Chica, Texas, USA   \n",
       "3      3    Roscosmos       Site 200/39, Baikonur Cosmodrome, Kazakhstan   \n",
       "4      4          ULA           SLC-41, Cape Canaveral AFS, Florida, USA   \n",
       "\n",
       "                        Datum                                        Detail  \\\n",
       "0  Fri Aug 07, 2020 05:12 UTC  Falcon 9 Block 5 | Starlink V1 L9 & BlackSky   \n",
       "1  Thu Aug 06, 2020 04:01 UTC           Long March 2D | Gaofen-9 04 & Q-SAT   \n",
       "2  Tue Aug 04, 2020 23:57 UTC            Starship Prototype | 150 Meter Hop   \n",
       "3  Thu Jul 30, 2020 21:25 UTC  Proton-M/Briz-M | Ekspress-80 & Ekspress-103   \n",
       "4  Thu Jul 30, 2020 11:50 UTC                    Atlas V 541 | Perseverance   \n",
       "\n",
       "  status_rocket  Rocket status_mission  \n",
       "0  StatusActive   50.0         Success  \n",
       "1  StatusActive  29.75         Success  \n",
       "2  StatusActive     NaN        Success  \n",
       "3  StatusActive   65.0         Success  \n",
       "4  StatusActive  145.0         Success  "
      ]
     },
     "execution_count": 11,
     "metadata": {},
     "output_type": "execute_result"
    }
   ],
   "source": [
    "space_missions_df.head()"
   ]
  },
  {
   "cell_type": "code",
   "execution_count": 12,
   "metadata": {},
   "outputs": [
    {
     "data": {
      "text/plain": [
       "index             False\n",
       "company_name      False\n",
       "Location          False\n",
       "Datum             False\n",
       "Detail            False\n",
       "status_rocket     False\n",
       "Rocket             True\n",
       "status_mission    False\n",
       "dtype: bool"
      ]
     },
     "execution_count": 12,
     "metadata": {},
     "output_type": "execute_result"
    }
   ],
   "source": [
    "# check if there any null or nan columns.\n",
    "space_missions_df.isna().any()"
   ]
  },
  {
   "cell_type": "code",
   "execution_count": 13,
   "metadata": {},
   "outputs": [],
   "source": [
    "# |exporti\n",
    "\n",
    "# fill nan with default 0.0 in the column Rocket\n",
    "space_missions_df['Rocket'].fillna(0.0, inplace=True)"
   ]
  },
  {
   "cell_type": "code",
   "execution_count": 14,
   "metadata": {},
   "outputs": [
    {
     "data": {
      "text/plain": [
       "0"
      ]
     },
     "execution_count": 14,
     "metadata": {},
     "output_type": "execute_result"
    }
   ],
   "source": [
    "# |exporti\n",
    "\n",
    "# check for duplicated rows from Data frame.\n",
    "space_missions_df.duplicated().sum()"
   ]
  },
  {
   "cell_type": "code",
   "execution_count": 15,
   "metadata": {},
   "outputs": [],
   "source": [
    "# |exporti\n",
    "\n",
    "# create two new columns seperating Datum to Date and time.\n",
    "#create a new column time_zone and store those values in it.\n",
    "space_missions_df['time_zone'] = space_missions_df['Datum'].str.split(' ').str[5]\n",
    "\n",
    "#creates a new column taking the original dates and removing timezones from it\n",
    "space_missions_df['date_um'] = space_missions_df['Datum'].str.replace(space_missions_df['time_zone'][0], '')\n",
    "\n",
    "#converts the dates into proper datetime format and data type.\n",
    "space_missions_df['date_um'] = pd.to_datetime(space_missions_df['date_um'], format='mixed')\n",
    "\n",
    "#create new columns date and time and stores the values in it.\n",
    "space_missions_df['date']  = space_missions_df['date_um'].dt.date\n",
    "space_missions_df['time']  = space_missions_df['date_um'].dt.time\n"
   ]
  },
  {
   "cell_type": "code",
   "execution_count": 16,
   "metadata": {},
   "outputs": [
    {
     "data": {
      "text/html": [
       "<div>\n",
       "<style scoped>\n",
       "    .dataframe tbody tr th:only-of-type {\n",
       "        vertical-align: middle;\n",
       "    }\n",
       "\n",
       "    .dataframe tbody tr th {\n",
       "        vertical-align: top;\n",
       "    }\n",
       "\n",
       "    .dataframe thead th {\n",
       "        text-align: right;\n",
       "    }\n",
       "</style>\n",
       "<table border=\"1\" class=\"dataframe\">\n",
       "  <thead>\n",
       "    <tr style=\"text-align: right;\">\n",
       "      <th></th>\n",
       "      <th>index</th>\n",
       "      <th>company_name</th>\n",
       "      <th>Location</th>\n",
       "      <th>Datum</th>\n",
       "      <th>Detail</th>\n",
       "      <th>status_rocket</th>\n",
       "      <th>Rocket</th>\n",
       "      <th>status_mission</th>\n",
       "      <th>time_zone</th>\n",
       "      <th>date_um</th>\n",
       "      <th>date</th>\n",
       "      <th>time</th>\n",
       "    </tr>\n",
       "  </thead>\n",
       "  <tbody>\n",
       "    <tr>\n",
       "      <th>0</th>\n",
       "      <td>0</td>\n",
       "      <td>SpaceX</td>\n",
       "      <td>LC-39A, Kennedy Space Center, Florida, USA</td>\n",
       "      <td>Fri Aug 07, 2020 05:12 UTC</td>\n",
       "      <td>Falcon 9 Block 5 | Starlink V1 L9 &amp; BlackSky</td>\n",
       "      <td>StatusActive</td>\n",
       "      <td>50.0</td>\n",
       "      <td>Success</td>\n",
       "      <td>UTC</td>\n",
       "      <td>2020-08-07 05:12:00</td>\n",
       "      <td>2020-08-07</td>\n",
       "      <td>05:12:00</td>\n",
       "    </tr>\n",
       "    <tr>\n",
       "      <th>1</th>\n",
       "      <td>1</td>\n",
       "      <td>CASC</td>\n",
       "      <td>Site 9401 (SLS-2), Jiuquan Satellite Launch Ce...</td>\n",
       "      <td>Thu Aug 06, 2020 04:01 UTC</td>\n",
       "      <td>Long March 2D | Gaofen-9 04 &amp; Q-SAT</td>\n",
       "      <td>StatusActive</td>\n",
       "      <td>29.75</td>\n",
       "      <td>Success</td>\n",
       "      <td>UTC</td>\n",
       "      <td>2020-08-06 04:01:00</td>\n",
       "      <td>2020-08-06</td>\n",
       "      <td>04:01:00</td>\n",
       "    </tr>\n",
       "    <tr>\n",
       "      <th>2</th>\n",
       "      <td>2</td>\n",
       "      <td>SpaceX</td>\n",
       "      <td>Pad A, Boca Chica, Texas, USA</td>\n",
       "      <td>Tue Aug 04, 2020 23:57 UTC</td>\n",
       "      <td>Starship Prototype | 150 Meter Hop</td>\n",
       "      <td>StatusActive</td>\n",
       "      <td>0.0</td>\n",
       "      <td>Success</td>\n",
       "      <td>UTC</td>\n",
       "      <td>2020-08-04 23:57:00</td>\n",
       "      <td>2020-08-04</td>\n",
       "      <td>23:57:00</td>\n",
       "    </tr>\n",
       "    <tr>\n",
       "      <th>3</th>\n",
       "      <td>3</td>\n",
       "      <td>Roscosmos</td>\n",
       "      <td>Site 200/39, Baikonur Cosmodrome, Kazakhstan</td>\n",
       "      <td>Thu Jul 30, 2020 21:25 UTC</td>\n",
       "      <td>Proton-M/Briz-M | Ekspress-80 &amp; Ekspress-103</td>\n",
       "      <td>StatusActive</td>\n",
       "      <td>65.0</td>\n",
       "      <td>Success</td>\n",
       "      <td>UTC</td>\n",
       "      <td>2020-07-30 21:25:00</td>\n",
       "      <td>2020-07-30</td>\n",
       "      <td>21:25:00</td>\n",
       "    </tr>\n",
       "    <tr>\n",
       "      <th>4</th>\n",
       "      <td>4</td>\n",
       "      <td>ULA</td>\n",
       "      <td>SLC-41, Cape Canaveral AFS, Florida, USA</td>\n",
       "      <td>Thu Jul 30, 2020 11:50 UTC</td>\n",
       "      <td>Atlas V 541 | Perseverance</td>\n",
       "      <td>StatusActive</td>\n",
       "      <td>145.0</td>\n",
       "      <td>Success</td>\n",
       "      <td>UTC</td>\n",
       "      <td>2020-07-30 11:50:00</td>\n",
       "      <td>2020-07-30</td>\n",
       "      <td>11:50:00</td>\n",
       "    </tr>\n",
       "  </tbody>\n",
       "</table>\n",
       "</div>"
      ],
      "text/plain": [
       "   index company_name                                           Location  \\\n",
       "0      0       SpaceX         LC-39A, Kennedy Space Center, Florida, USA   \n",
       "1      1         CASC  Site 9401 (SLS-2), Jiuquan Satellite Launch Ce...   \n",
       "2      2       SpaceX                      Pad A, Boca Chica, Texas, USA   \n",
       "3      3    Roscosmos       Site 200/39, Baikonur Cosmodrome, Kazakhstan   \n",
       "4      4          ULA           SLC-41, Cape Canaveral AFS, Florida, USA   \n",
       "\n",
       "                        Datum                                        Detail  \\\n",
       "0  Fri Aug 07, 2020 05:12 UTC  Falcon 9 Block 5 | Starlink V1 L9 & BlackSky   \n",
       "1  Thu Aug 06, 2020 04:01 UTC           Long March 2D | Gaofen-9 04 & Q-SAT   \n",
       "2  Tue Aug 04, 2020 23:57 UTC            Starship Prototype | 150 Meter Hop   \n",
       "3  Thu Jul 30, 2020 21:25 UTC  Proton-M/Briz-M | Ekspress-80 & Ekspress-103   \n",
       "4  Thu Jul 30, 2020 11:50 UTC                    Atlas V 541 | Perseverance   \n",
       "\n",
       "  status_rocket  Rocket status_mission time_zone             date_um  \\\n",
       "0  StatusActive   50.0         Success       UTC 2020-08-07 05:12:00   \n",
       "1  StatusActive  29.75         Success       UTC 2020-08-06 04:01:00   \n",
       "2  StatusActive     0.0        Success       UTC 2020-08-04 23:57:00   \n",
       "3  StatusActive   65.0         Success       UTC 2020-07-30 21:25:00   \n",
       "4  StatusActive  145.0         Success       UTC 2020-07-30 11:50:00   \n",
       "\n",
       "         date      time  \n",
       "0  2020-08-07  05:12:00  \n",
       "1  2020-08-06  04:01:00  \n",
       "2  2020-08-04  23:57:00  \n",
       "3  2020-07-30  21:25:00  \n",
       "4  2020-07-30  11:50:00  "
      ]
     },
     "execution_count": 16,
     "metadata": {},
     "output_type": "execute_result"
    }
   ],
   "source": [
    "space_missions_df.head()"
   ]
  },
  {
   "cell_type": "markdown",
   "metadata": {},
   "source": [
    "#### Unique companies and the company distributions. \n",
    "\n",
    "How many unique companies are represented in the dataset? What's the distribution of companies?"
   ]
  },
  {
   "cell_type": "code",
   "execution_count": 17,
   "metadata": {
    "scrolled": true
   },
   "outputs": [
    {
     "data": {
      "text/plain": [
       "company_name\n",
       "RVSN USSR           1777\n",
       "Arianespace          279\n",
       "CASC                 251\n",
       "General Dynamics     251\n",
       "NASA                 203\n",
       "VKS RF               201\n",
       "US Air Force         161\n",
       "ULA                  140\n",
       "Boeing               136\n",
       "Martin Marietta      114\n",
       "SpaceX               100\n",
       "MHI                   84\n",
       "Northrop              83\n",
       "Lockheed              79\n",
       "ISRO                  76\n",
       "Roscosmos             55\n",
       "ILS                   46\n",
       "Sea Launch            36\n",
       "ISAS                  30\n",
       "Kosmotras             22\n",
       "US Navy               17\n",
       "ISA                   13\n",
       "Rocket Lab            13\n",
       "Eurockot              13\n",
       "ESA                   13\n",
       "Blue Origin           12\n",
       "IAI                   11\n",
       "ExPace                10\n",
       "ASI                    9\n",
       "CNES                   8\n",
       "AMBA                   8\n",
       "MITT                   7\n",
       "JAXA                   7\n",
       "Land Launch            7\n",
       "UT                     5\n",
       "KCST                   5\n",
       "CASIC                  5\n",
       "Exos                   4\n",
       "CECLES                 4\n",
       "Arm??e de l'Air        4\n",
       "KARI                   3\n",
       "SRC                    3\n",
       "AEB                    3\n",
       "RAE                    2\n",
       "OKB-586                2\n",
       "Yuzhmash               2\n",
       "Landspace              1\n",
       "Douglas                1\n",
       "EER                    1\n",
       "Starsem                1\n",
       "Virgin Orbit           1\n",
       "IRGC                   1\n",
       "i-Space                1\n",
       "OneSpace               1\n",
       "Sandia                 1\n",
       "Khrunichev             1\n",
       "Name: count, dtype: int64"
      ]
     },
     "execution_count": 17,
     "metadata": {},
     "output_type": "execute_result"
    }
   ],
   "source": [
    "# all_companies = pd.Series(space_missions_df['Company Name']).value_counts()\n",
    "space_missions_df['company_name'].value_counts()"
   ]
  },
  {
   "cell_type": "code",
   "execution_count": 18,
   "metadata": {
    "scrolled": true
   },
   "outputs": [
    {
     "name": "stdout",
     "output_type": "stream",
     "text": [
      "                                                                                                       count\n",
      "company_name Location                                           Detail                                      \n",
      "AEB          VLS Pad, Alc?›ntara Launch Center, Maranh?œo, B... VLS-1 | SACI-2                             1\n",
      "                                                                VLS-1 | SATEC, UNOSAT                      1\n",
      "                                                                VLS-1 | SCD-2A                             1\n",
      "AMBA         LA-5B, RAAF Woomera Range Complex, Australia       Redstone Sparta | WRESAT                   1\n",
      "             LC-26A, Cape Canaveral AFS, Florida, USA           Juno I | Explorer 1                        1\n",
      "...                                                                                                      ...\n",
      "VKS RF       Site 90/20, Baikonur Cosmodrome, Kazakhstan        Tsyklon-2 | Cosmos 2421                    1\n",
      "Virgin Orbit Cosmic Girl, Mojave Air and Space Port, Califor... LauncherOne | Demo Flight                  1\n",
      "Yuzhmash     Site 32/2, Plesetsk Cosmodrome, Russia             Tsyklon-3 | Intercosmos 25 & Magion 3      1\n",
      "             Site 90/20, Baikonur Cosmodrome, Kazakhstan        Tsyklon-2 | IS Mass Model                  1\n",
      "i-Space      Site 95, Jiuquan Satellite Launch Center, China    Hyperbola-1 | CAS-7B & Others              1\n",
      "\n",
      "[4287 rows x 1 columns]\n"
     ]
    }
   ],
   "source": [
    "#with pd.option_context('display.max_rows', None, 'display.max_columns', None):\n",
    "print(space_missions_df.groupby(['company_name', 'Location','Detail']).company_name.agg(['count']))"
   ]
  },
  {
   "cell_type": "markdown",
   "metadata": {},
   "source": [
    "#### Launch Location analysis. "
   ]
  },
  {
   "cell_type": "code",
   "execution_count": 19,
   "metadata": {
    "scrolled": true
   },
   "outputs": [
    {
     "name": "stdout",
     "output_type": "stream",
     "text": [
      "Location\n",
      "Site 31/6, Baikonur Cosmodrome, Kazakhstan               235\n",
      "Site 132/1, Plesetsk Cosmodrome, Russia                  216\n",
      "Site 43/4, Plesetsk Cosmodrome, Russia                   202\n",
      "Site 41/1, Plesetsk Cosmodrome, Russia                   198\n",
      "Site 1/5, Baikonur Cosmodrome, Kazakhstan                193\n",
      "                                                        ... \n",
      "Jiuquan Satellite Launch Center, China                     1\n",
      "LP-41, Kauai, Pacific Missile Range Facility               1\n",
      "Tai Rui Barge, Yellow Sea                                  1\n",
      "Launch Plateform, Shahrud Missile Test Site                1\n",
      "K-496 Submarine, Barents Sea Launch Area, Barents Sea      1\n",
      "Name: count, Length: 137, dtype: int64\n"
     ]
    }
   ],
   "source": [
    "# How many unique launch Locations are present in the dataset. \n",
    "#with pd.option_context('display.max_rows', None, 'display.max_columns', None):\n",
    "print(space_missions_df['Location'].value_counts())"
   ]
  },
  {
   "cell_type": "code",
   "execution_count": 20,
   "metadata": {},
   "outputs": [],
   "source": [
    "# |exporti\n",
    "\n",
    "launch_locations_count = space_missions_df['Location'].value_counts().reset_index()"
   ]
  },
  {
   "cell_type": "code",
   "execution_count": 21,
   "metadata": {},
   "outputs": [
    {
     "data": {
      "text/html": [
       "<div>\n",
       "<style scoped>\n",
       "    .dataframe tbody tr th:only-of-type {\n",
       "        vertical-align: middle;\n",
       "    }\n",
       "\n",
       "    .dataframe tbody tr th {\n",
       "        vertical-align: top;\n",
       "    }\n",
       "\n",
       "    .dataframe thead th {\n",
       "        text-align: right;\n",
       "    }\n",
       "</style>\n",
       "<table border=\"1\" class=\"dataframe\">\n",
       "  <thead>\n",
       "    <tr style=\"text-align: right;\">\n",
       "      <th></th>\n",
       "      <th>Location</th>\n",
       "      <th>count</th>\n",
       "    </tr>\n",
       "  </thead>\n",
       "  <tbody>\n",
       "    <tr>\n",
       "      <th>0</th>\n",
       "      <td>Site 31/6, Baikonur Cosmodrome, Kazakhstan</td>\n",
       "      <td>235</td>\n",
       "    </tr>\n",
       "    <tr>\n",
       "      <th>1</th>\n",
       "      <td>Site 132/1, Plesetsk Cosmodrome, Russia</td>\n",
       "      <td>216</td>\n",
       "    </tr>\n",
       "    <tr>\n",
       "      <th>2</th>\n",
       "      <td>Site 43/4, Plesetsk Cosmodrome, Russia</td>\n",
       "      <td>202</td>\n",
       "    </tr>\n",
       "    <tr>\n",
       "      <th>3</th>\n",
       "      <td>Site 41/1, Plesetsk Cosmodrome, Russia</td>\n",
       "      <td>198</td>\n",
       "    </tr>\n",
       "    <tr>\n",
       "      <th>4</th>\n",
       "      <td>Site 1/5, Baikonur Cosmodrome, Kazakhstan</td>\n",
       "      <td>193</td>\n",
       "    </tr>\n",
       "    <tr>\n",
       "      <th>...</th>\n",
       "      <td>...</td>\n",
       "      <td>...</td>\n",
       "    </tr>\n",
       "    <tr>\n",
       "      <th>132</th>\n",
       "      <td>Jiuquan Satellite Launch Center, China</td>\n",
       "      <td>1</td>\n",
       "    </tr>\n",
       "    <tr>\n",
       "      <th>133</th>\n",
       "      <td>LP-41, Kauai, Pacific Missile Range Facility</td>\n",
       "      <td>1</td>\n",
       "    </tr>\n",
       "    <tr>\n",
       "      <th>134</th>\n",
       "      <td>Tai Rui Barge, Yellow Sea</td>\n",
       "      <td>1</td>\n",
       "    </tr>\n",
       "    <tr>\n",
       "      <th>135</th>\n",
       "      <td>Launch Plateform, Shahrud Missile Test Site</td>\n",
       "      <td>1</td>\n",
       "    </tr>\n",
       "    <tr>\n",
       "      <th>136</th>\n",
       "      <td>K-496 Submarine, Barents Sea Launch Area, Bare...</td>\n",
       "      <td>1</td>\n",
       "    </tr>\n",
       "  </tbody>\n",
       "</table>\n",
       "<p>137 rows × 2 columns</p>\n",
       "</div>"
      ],
      "text/plain": [
       "                                              Location  count\n",
       "0           Site 31/6, Baikonur Cosmodrome, Kazakhstan    235\n",
       "1              Site 132/1, Plesetsk Cosmodrome, Russia    216\n",
       "2               Site 43/4, Plesetsk Cosmodrome, Russia    202\n",
       "3               Site 41/1, Plesetsk Cosmodrome, Russia    198\n",
       "4            Site 1/5, Baikonur Cosmodrome, Kazakhstan    193\n",
       "..                                                 ...    ...\n",
       "132             Jiuquan Satellite Launch Center, China      1\n",
       "133       LP-41, Kauai, Pacific Missile Range Facility      1\n",
       "134                          Tai Rui Barge, Yellow Sea      1\n",
       "135        Launch Plateform, Shahrud Missile Test Site      1\n",
       "136  K-496 Submarine, Barents Sea Launch Area, Bare...      1\n",
       "\n",
       "[137 rows x 2 columns]"
      ]
     },
     "execution_count": 21,
     "metadata": {},
     "output_type": "execute_result"
    }
   ],
   "source": [
    "launch_locations_count"
   ]
  },
  {
   "cell_type": "markdown",
   "metadata": {},
   "source": [
    "#### get latitute and longitude coordinates of all the spaceship launch locations. "
   ]
  },
  {
   "cell_type": "code",
   "execution_count": 22,
   "metadata": {},
   "outputs": [],
   "source": [
    "# |exporti\n",
    "\n",
    "for i, launch_location in enumerate(launch_locations_count['Location']):\n",
    "    split_location_list = launch_location.split(\",\", 1)\n",
    "    # location_coordinates = split_location_list\n",
    "    if(len(split_location_list) > 1):\n",
    "          location_name = launch_location.split(\",\", 1)[1]\n",
    "          g = geocoder.osm(location_name)\n",
    "          if(g.ok):\n",
    "                 launch_locations_count.loc[i, 'Location'] = location_name\n",
    "                 launch_locations_count.loc[i, 'Lat'] = g.lat\n",
    "                 launch_locations_count.loc[i , 'Long'] = g.lng"
   ]
  },
  {
   "cell_type": "code",
   "execution_count": 23,
   "metadata": {},
   "outputs": [],
   "source": [
    "# |exporti\n",
    "\n",
    "# launch_locations_df = pd.DataFrame[launch_locations_count]\n",
    "\n",
    "# Drop NaN from launch_locations_count\n",
    "launch_locations_count.dropna(subset=[\"Location\", \"count\", \"Lat\", \"Long\"], inplace=True)"
   ]
  },
  {
   "cell_type": "markdown",
   "metadata": {},
   "source": [
    "#### Creating Map with folium"
   ]
  },
  {
   "cell_type": "code",
   "execution_count": 24,
   "metadata": {},
   "outputs": [
    {
     "data": {
      "text/markdown": [
       "# Markers on world map for each location"
      ],
      "text/plain": [
       "<IPython.core.display.Markdown object>"
      ]
     },
     "metadata": {},
     "output_type": "display_data"
    }
   ],
   "source": [
    "# |exporti\n",
    "\n",
    "st.title(\"Markers on world map for each location\")"
   ]
  },
  {
   "cell_type": "code",
   "execution_count": 25,
   "metadata": {},
   "outputs": [],
   "source": [
    "# |exporti\n",
    "\n",
    "# create markers on world map for each location. \n",
    "world_map = folium.Map(location=[0,0], zoom_start=2)\n",
    "\n",
    "for i,location in launch_locations_count.iterrows():\n",
    "    folium.Marker(\n",
    "        location=[location[\"Lat\"], location[\"Long\"]],\n",
    "        popup=f\"Location: {location['Location']}<br>Count: {location['count']}\",\n",
    "        icon=folium.Icon(icon=\"shuttle-space\", prefix='fa',\n",
    "                         max_width=100)\n",
    "    ).add_to(world_map)\n"
   ]
  },
  {
   "cell_type": "code",
   "execution_count": 26,
   "metadata": {},
   "outputs": [
    {
     "name": "stderr",
     "output_type": "stream",
     "text": [
      "2024-01-26 18:29:11.904 \n",
      "  \u001b[33m\u001b[1mWarning:\u001b[0m to view this Streamlit app on a browser, run it with the following\n",
      "  command:\n",
      "\n",
      "    streamlit run /Users/harish8/miniconda3/envs/ds_env/lib/python3.11/site-packages/ipykernel_launcher.py [ARGUMENTS]\n"
     ]
    },
    {
     "data": {
      "text/plain": [
       "{'last_clicked': None,\n",
       " 'last_object_clicked': None,\n",
       " 'last_object_clicked_tooltip': None,\n",
       " 'last_object_clicked_popup': None,\n",
       " 'all_drawings': None,\n",
       " 'last_active_drawing': None,\n",
       " 'bounds': {'_southWest': {'lat': 5.21237515, 'lng': -159.7846070550674},\n",
       "  '_northEast': {'lat': 64.6863136, 'lng': 139.2394179}},\n",
       " 'zoom': 2,\n",
       " 'last_circle_radius': None,\n",
       " 'last_circle_polygon': None}"
      ]
     },
     "execution_count": 26,
     "metadata": {},
     "output_type": "execute_result"
    }
   ],
   "source": [
    "# |exporti\n",
    "\n",
    "st_folium(world_map, width=\"100%\")"
   ]
  }
 ],
 "metadata": {
  "kernelspec": {
   "display_name": "Python 3 (ipykernel)",
   "language": "python",
   "name": "python3"
  },
  "language_info": {
   "codemirror_mode": {
    "name": "ipython",
    "version": 3
   },
   "file_extension": ".py",
   "mimetype": "text/x-python",
   "name": "python",
   "nbconvert_exporter": "python",
   "pygments_lexer": "ipython3",
   "version": "3.11.4"
  }
 },
 "nbformat": 4,
 "nbformat_minor": 4
}
